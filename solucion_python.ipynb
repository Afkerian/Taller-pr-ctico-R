{
 "cells": [
  {
   "attachments": {},
   "cell_type": "markdown",
   "metadata": {},
   "source": [
    "Solucion planteada en Python"
   ]
  },
  {
   "cell_type": "code",
   "execution_count": 34,
   "metadata": {},
   "outputs": [],
   "source": [
    "import pandas as pd"
   ]
  },
  {
   "cell_type": "code",
   "execution_count": 35,
   "metadata": {},
   "outputs": [],
   "source": [
    "# Cargamos el archivo CSV para nuestro DataFrame\n",
    "df = pd.read_csv('at_health_facilities.csv')"
   ]
  },
  {
   "cell_type": "code",
   "execution_count": 36,
   "metadata": {},
   "outputs": [
    {
     "data": {
      "text/html": [
       "<div>\n",
       "<style scoped>\n",
       "    .dataframe tbody tr th:only-of-type {\n",
       "        vertical-align: middle;\n",
       "    }\n",
       "\n",
       "    .dataframe tbody tr th {\n",
       "        vertical-align: top;\n",
       "    }\n",
       "\n",
       "    .dataframe thead th {\n",
       "        text-align: right;\n",
       "    }\n",
       "</style>\n",
       "<table border=\"1\" class=\"dataframe\">\n",
       "  <thead>\n",
       "    <tr style=\"text-align: right;\">\n",
       "      <th></th>\n",
       "      <th>iso3</th>\n",
       "      <th>year</th>\n",
       "      <th>age 15-17</th>\n",
       "      <th>age 20-34</th>\n",
       "    </tr>\n",
       "  </thead>\n",
       "  <tbody>\n",
       "    <tr>\n",
       "      <th>0</th>\n",
       "      <td>AFG</td>\n",
       "      <td>2010</td>\n",
       "      <td>33</td>\n",
       "      <td>29</td>\n",
       "    </tr>\n",
       "    <tr>\n",
       "      <th>1</th>\n",
       "      <td>ALB</td>\n",
       "      <td>2005</td>\n",
       "      <td>98</td>\n",
       "      <td>96</td>\n",
       "    </tr>\n",
       "    <tr>\n",
       "      <th>2</th>\n",
       "      <td>ALB</td>\n",
       "      <td>2008</td>\n",
       "      <td>98</td>\n",
       "      <td>98</td>\n",
       "    </tr>\n",
       "    <tr>\n",
       "      <th>3</th>\n",
       "      <td>ARG</td>\n",
       "      <td>2012</td>\n",
       "      <td>100</td>\n",
       "      <td>100</td>\n",
       "    </tr>\n",
       "    <tr>\n",
       "      <th>4</th>\n",
       "      <td>ARM</td>\n",
       "      <td>2000</td>\n",
       "      <td>93</td>\n",
       "      <td>87</td>\n",
       "    </tr>\n",
       "  </tbody>\n",
       "</table>\n",
       "</div>"
      ],
      "text/plain": [
       "  iso3  year  age 15-17 age 20-34\n",
       "0  AFG  2010         33        29\n",
       "1  ALB  2005         98        96\n",
       "2  ALB  2008         98        98\n",
       "3  ARG  2012        100       100\n",
       "4  ARM  2000         93        87"
      ]
     },
     "execution_count": 36,
     "metadata": {},
     "output_type": "execute_result"
    }
   ],
   "source": [
    "df.head()"
   ]
  },
  {
   "cell_type": "code",
   "execution_count": 37,
   "metadata": {},
   "outputs": [
    {
     "name": "stdout",
     "output_type": "stream",
     "text": [
      "Un total de 100 países reportaron los datos.\n"
     ]
    }
   ],
   "source": [
    "# 1. Cuántos países reportaron los datos?\n",
    "num_countries = df['iso3'].nunique()\n",
    "print(f\"Un total de {num_countries} países reportaron los datos.\")"
   ]
  },
  {
   "cell_type": "code",
   "execution_count": 38,
   "metadata": {},
   "outputs": [
    {
     "name": "stdout",
     "output_type": "stream",
     "text": [
      "Diferencia de años entre el año \n",
      "mínimo y año máximo por cada pais:\n",
      "iso3\n",
      "AFG     0\n",
      "ALB     3\n",
      "ARG     0\n",
      "ARM    10\n",
      "AZE     0\n",
      "       ..\n",
      "VNM    11\n",
      "VUT     0\n",
      "YEM     7\n",
      "ZMB    12\n",
      "ZWE     9\n",
      "Length: 100, dtype: int64\n"
     ]
    }
   ],
   "source": [
    "# 2. Cuál es la diferencia entre el año mínimo y año máximo con datos válidos por cada país?\n",
    "year_range = df.groupby('iso3')['year'].agg(['min', 'max'])\n",
    "year_diff = year_range['max'] - year_range['min']\n",
    "print(\"Diferencia de años entre el año \\nmínimo y año máximo por cada pais:\")\n",
    "print(year_diff)"
   ]
  },
  {
   "cell_type": "code",
   "execution_count": 39,
   "metadata": {},
   "outputs": [
    {
     "name": "stdout",
     "output_type": "stream",
     "text": [
      "Un total de 34 países reportaron datos en 3 años o más.\n"
     ]
    }
   ],
   "source": [
    "# 3. Cuántos países reportaron datos en 3 años o más?\n",
    "countries = df.groupby('iso3')['year'].nunique()\n",
    "num_countries = len(countries[countries >= 3])\n",
    "print(f\"Un total de {num_countries} países reportaron datos en 3 años o más.\")"
   ]
  },
  {
   "cell_type": "code",
   "execution_count": 40,
   "metadata": {},
   "outputs": [
    {
     "name": "stdout",
     "output_type": "stream",
     "text": [
      "Los países que reportaron el 100% de incidencia en al menos un año,\n",
      "para cualquier grupo de edad:\n",
      "ARG, ARM, BRB, BLR, BIH, CUB, KAZ, KGZ, LCA, SRB, UKR, URY\n"
     ]
    }
   ],
   "source": [
    "\n",
    "# 4. Qué países reportaron el 100% de incidencia para al menos un año en cualquier grupo de edad?\n",
    "countries_incidence = df[(df['age 15-17'] == 100) | (df['age 20-34'] == 100)]['iso3'].unique()\n",
    "print(f\"Los países que reportaron el 100% de incidencia en al menos un año,\\npara cualquier grupo de edad:\\n{', '.join(countries_incidence)}\")\n"
   ]
  },
  {
   "cell_type": "code",
   "execution_count": 41,
   "metadata": {},
   "outputs": [
    {
     "name": "stdout",
     "output_type": "stream",
     "text": [
      "<class 'pandas.core.frame.DataFrame'>\n",
      "RangeIndex: 225 entries, 0 to 224\n",
      "Data columns (total 4 columns):\n",
      " #   Column     Non-Null Count  Dtype \n",
      "---  ------     --------------  ----- \n",
      " 0   iso3       225 non-null    object\n",
      " 1   year       225 non-null    int64 \n",
      " 2   age 15-17  225 non-null    int64 \n",
      " 3   age 20-34  225 non-null    object\n",
      "dtypes: int64(2), object(2)\n",
      "memory usage: 7.2+ KB\n"
     ]
    }
   ],
   "source": [
    "df.info()"
   ]
  },
  {
   "cell_type": "code",
   "execution_count": 42,
   "metadata": {},
   "outputs": [],
   "source": [
    "import seaborn as sns\n",
    "import matplotlib.pyplot as plt"
   ]
  },
  {
   "cell_type": "code",
   "execution_count": 43,
   "metadata": {},
   "outputs": [],
   "source": [
    "# La columna del DataFrame es object, transformamos a int para poder graficar\n",
    "#df['age 20-34'] = df['age 20-34'].astype(int) "
   ]
  },
  {
   "cell_type": "code",
   "execution_count": 44,
   "metadata": {},
   "outputs": [],
   "source": [
    "# No se puede porque algun valor es un string, entonces por eso se utiliza el coerce\n",
    "df[\"age 20-34\"] = pd.to_numeric(df[\"age 20-34\"], errors=\"coerce\")"
   ]
  },
  {
   "cell_type": "code",
   "execution_count": 45,
   "metadata": {},
   "outputs": [
    {
     "name": "stdout",
     "output_type": "stream",
     "text": [
      "<class 'pandas.core.frame.DataFrame'>\n",
      "RangeIndex: 225 entries, 0 to 224\n",
      "Data columns (total 4 columns):\n",
      " #   Column     Non-Null Count  Dtype  \n",
      "---  ------     --------------  -----  \n",
      " 0   iso3       225 non-null    object \n",
      " 1   year       225 non-null    int64  \n",
      " 2   age 15-17  225 non-null    int64  \n",
      " 3   age 20-34  221 non-null    float64\n",
      "dtypes: float64(1), int64(2), object(1)\n",
      "memory usage: 7.2+ KB\n"
     ]
    }
   ],
   "source": [
    "df.info()"
   ]
  },
  {
   "cell_type": "code",
   "execution_count": 46,
   "metadata": {},
   "outputs": [
    {
     "data": {
      "image/png": "[encoded data removed]",
      "text/plain": [
       "<Figure size 640x480 with 2 Axes>"
      ]
     },
     "metadata": {},
     "output_type": "display_data"
    }
   ],
   "source": [
    "# histogramas \n",
    "df[['age 15-17', 'age 20-34']].hist()\n",
    "plt.show()"
   ]
  }
 ],
 "metadata": {
  "kernelspec": {
   "display_name": "taller_env",
   "language": "python",
   "name": "python3"
  },
  "language_info": {
   "codemirror_mode": {
    "name": "ipython",
    "version": 3
   },
   "file_extension": ".py",
   "mimetype": "text/x-python",
   "name": "python",
   "nbconvert_exporter": "python",
   "pygments_lexer": "ipython3",
   "version": "3.9.13"
  },
  "orig_nbformat": 4,
  "vscode": {
   "interpreter": {
    "hash": "714c621548181ff6b9c1935ac7b2bb9b29ec77c514380a21fe5be41306604992"
   }
  }
 },
 "nbformat": 4,
 "nbformat_minor": 2
}
